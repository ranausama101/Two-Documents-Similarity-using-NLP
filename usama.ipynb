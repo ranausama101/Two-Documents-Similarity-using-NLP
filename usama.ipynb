{
 "cells": [
  {
   "cell_type": "code",
   "execution_count": 23,
   "metadata": {},
   "outputs": [],
   "source": [
    "import fitz\n",
    "import re\n",
    "import operator\n",
    "import sentence_transformers\n",
    "import sys\n",
    "import os"
   ]
  },
  {
   "cell_type": "code",
   "execution_count": 24,
   "metadata": {},
   "outputs": [],
   "source": [
    "from sentence_transformers import SentenceTransformer, util\n",
    "model = SentenceTransformer('paraphrase-distilroberta-base-v1')"
   ]
  },
  {
   "cell_type": "code",
   "execution_count": 25,
   "metadata": {},
   "outputs": [],
   "source": [
    "def remove_tags(text):\n",
    "    text = re.sub('\\n',\" \",text)\n",
    "    return re.sub('\\xa0',\"\",text)\n"
   ]
  },
  {
   "cell_type": "code",
   "execution_count": 26,
   "metadata": {},
   "outputs": [
    {
     "name": "stdout",
     "output_type": "stream",
     "text": [
      "Enter the path of your file: C:\\Users\\4a\\mechinelearing\\intership\\Sementic search\\Tolerance.pdf\n",
      "Path found\n"
     ]
    }
   ],
   "source": [
    "user_input = input(\"Enter the path of your file: \")\n",
    "\n",
    "assert os.path.exists(user_input), \"I did not find the file at, \"+str(user_input)\n",
    "doc = fitz.open(user_input)\n",
    "print(\"Path found\")"
   ]
  },
  {
   "cell_type": "code",
   "execution_count": 28,
   "metadata": {},
   "outputs": [
    {
     "name": "stdout",
     "output_type": "stream",
     "text": [
      "['Name:       Usama-bin-Tahir  Reg no:               17-NTU-1586  Department:         BS-IT (7th semester)  Submit to:              Sir Afit jamal  Presentation Topic:     Benefits of Tolerance in Islam   Due Date:              31-jan-2021      Tolerance       Tolerance is an important concept that helps people to live together        peacefully', \"Tolerance also means that you don't put your opinions      above those of others, even when you       are sure that you are right\", 'Tolerant people show strength in that they         can deal with different       opinions and perspectives', 'What Tolerance Tends to?     A Preliminary Report in the Quran tolerance is viewed a necessary  prerequisite for coexistence', 'It assumes social, cultural and religious  differences that require toleration, even if these differences do not  meet with the approval of the parties involved', 'Tolerance without  greater acceptance indicates a sense of conditioned approval', 'However, the Quran views the tolerance as an important starting point  in establishing greater peace', 'The Quran seeks to establish peace  between various religious communities and acknowledges differences  of belief and cultures', 'It places great emphasis in maintaining good  relations between adherents of various religions [1, 2] because  according to the Quran, religious freedom is an important basis for']\n",
      "['sustainable peace', 'The Quran calls all believers to ‘enter into complete  peace and follow not the footsteps of devil’ (al-Baqarah verse 208)', 'This aspect is highlighted in the Quranic discourse on tolerance    Diversity in Islam:     Identity and Influence From acknowledging differences in promoting  Islamic ethos the Quran outlines a firm standard for all, Muslim and  non-Muslims alike, based on the universal values of justice and  equality', 'For the Quran, peace is the ultimate goal, and if there is to  be peace, there must first be tolerance [13, 14]', 'Diversity not only  extends to physical features and social and cultural phenomena, but  also to the extent of choosing one’s religion', 'Diversity is recognized  and highly praised in the Quran', 'Thus al-Rum verse 22 asserts that in  diversity and variations are the signs of God for those with vision and  those who are wise', 'This implies that differences must not only be  expected, but be tolerated [15]', 'They are viewed as a cause for  celebration, hence al-Hujurat verse 13 recognizes diversity and  difference in term of gender, skin, color, language and belief, as well  as of that rank, and it asserts that differences are not only inherent  and will always be there but they are a blessing from God as the  Quran asserts in Hud verse118', 'Islamic Tolerance:   Practices from Quranic Perspective the Quran recognizes various  religious communities and a strong foundation for Quranic tolerance  can be seen in the following verses', 'Sura al-Isra verse 70 speaks of  human beings as being given and honorable position among all of  creation', 'This is followed by the responsibility to care for all creation in  mankind’s role as khalifa (vicegerent) of God on earth [29]', 'Similarly,  al-Ma’idah verse 32 and al-An‘am verse 98 speak about the common  origins of humanity which makes all human beings related to each  other [30]', '']\n",
      "['Religious Tolerance According to Islam:   The Conclusion Islam as a living religion that is parallel to human  nature', 'Hence, Islam teaches its followers to preserve human life  comprehensively regardless of religion, race and ancestry', 'At the same  time, Islam teaches its people to be ready to defend any threat,  tyranny and persecution that endanger human security [42]', 'Such a  situation, commonly referred to as the term religious tolerance', '']\n"
     ]
    }
   ],
   "source": [
    "text = []\n",
    "for i in range(doc.page_count):\n",
    "    page1 = doc.loadPage(i)\n",
    "    page1text = page1.getText(\"text\")\n",
    "    page1text = [i.strip() for i in remove_tags(page1text).split(\". \")]\n",
    "    print(page1text)\n",
    "    for x in page1text:\n",
    "        if len(x)>1:\n",
    "            text.append(x)"
   ]
  },
  {
   "cell_type": "code",
   "execution_count": 29,
   "metadata": {},
   "outputs": [
    {
     "name": "stdout",
     "output_type": "stream",
     "text": [
      "Enter your text data: This implies that differences must not only be  expected, but be tolerated [15]', 'They are viewed as a cause for  celebration, hence al-Hujurat verse 13 recognizes diversity and  difference in term of gender, skin, color, language and belief, as well  as of that rank, and it asserts that differences are not only inherent  and will always be there but they are a blessing from God as the  Quran asserts in Hud verse118', 'Islamic Tolerance:   Practices from Quranic Perspective the Quran recognizes various  religious communities and a strong foundation for Quranic tolerance  can be seen in the following verses', '\n"
     ]
    }
   ],
   "source": [
    "len_corpus = len(text)\n",
    "input_text = input(\"Enter your text data: \")\n",
    "ab = input_text.split(\". \")\n",
    "len_input_text = len(ab) "
   ]
  },
  {
   "cell_type": "code",
   "execution_count": 30,
   "metadata": {},
   "outputs": [
    {
     "name": "stdout",
     "output_type": "stream",
     "text": [
      "Enter your percentage threshold:0.65\n"
     ]
    }
   ],
   "source": [
    "input_precentage = input(\"Enter your percentage threshold:\")\n",
    "\n"
   ]
  },
  {
   "cell_type": "code",
   "execution_count": 31,
   "metadata": {},
   "outputs": [],
   "source": [
    "embeddings1 = model.encode(input_text, convert_to_tensor=True)"
   ]
  },
  {
   "cell_type": "code",
   "execution_count": 32,
   "metadata": {},
   "outputs": [],
   "source": [
    "sim_dict = {}\n",
    "for t in text:\n",
    "    ind = text.index(t)\n",
    "    sent2 = \"\"\n",
    "    for i in range(len_input_text):\n",
    "        pick = ind +i\n",
    "        if pick >= len_corpus:\n",
    "            pass\n",
    "        else:\n",
    "            get_text = text[pick]\n",
    "            sent2 = sent2 + \". \"+ get_text\n",
    "\n",
    "    embeddings2 = model.encode(sent2, convert_to_tensor=True)\n",
    "    cosine_scores = util.pytorch_cos_sim(embeddings1, embeddings2)\n",
    "    sim_dict[ind] = cosine_scores"
   ]
  },
  {
   "cell_type": "code",
   "execution_count": 33,
   "metadata": {},
   "outputs": [],
   "source": [
    "sorted_d = sorted(sim_dict.items(), key=operator.itemgetter(1),reverse=True)"
   ]
  },
  {
   "cell_type": "code",
   "execution_count": 34,
   "metadata": {},
   "outputs": [
    {
     "data": {
      "text/plain": [
       "(12, tensor([[0.6249]]))"
      ]
     },
     "execution_count": 34,
     "metadata": {},
     "output_type": "execute_result"
    }
   ],
   "source": [
    "sorted_d[6]"
   ]
  },
  {
   "cell_type": "code",
   "execution_count": 35,
   "metadata": {},
   "outputs": [],
   "source": [
    "final_text = {}\n",
    "for value in sorted_d:\n",
    "    index = value[0]\n",
    "    if float(value[1].numpy()[0][0]) > float(input_precentage):\n",
    "        final_text[index] = float(value[1].numpy()[0][0]) \n",
    "    "
   ]
  },
  {
   "cell_type": "code",
   "execution_count": 40,
   "metadata": {},
   "outputs": [
    {
     "data": {
      "text/plain": [
       "<docx.text.paragraph.Paragraph at 0x1aab4f3f6c8>"
      ]
     },
     "execution_count": 40,
     "metadata": {},
     "output_type": "execute_result"
    }
   ],
   "source": [
    "from docx import Document\n",
    "from docx.shared import Inches\n",
    "document = Document()\n",
    "document.add_heading('Report', 0)"
   ]
  },
  {
   "cell_type": "code",
   "execution_count": 37,
   "metadata": {},
   "outputs": [
    {
     "name": "stdout",
     "output_type": "stream",
     "text": [
      "They are viewed as a cause for  celebration, hence al-Hujurat verse 13 recognizes diversity and  difference in term of gender, skin, color, language and belief, as well  as of that rank, and it asserts that differences are not only inherent  and will always be there but they are a blessing from God as the  Quran asserts in Hud verse118\n",
      "\n",
      "\n",
      "\n",
      "This aspect is highlighted in the Quranic discourse on tolerance    Diversity in Islam:     Identity and Influence From acknowledging differences in promoting  Islamic ethos the Quran outlines a firm standard for all, Muslim and  non-Muslims alike, based on the universal values of justice and  equality\n",
      "\n",
      "\n",
      "\n",
      "This implies that differences must not only be  expected, but be tolerated [15]\n",
      "\n",
      "\n",
      "\n",
      "Islamic Tolerance:   Practices from Quranic Perspective the Quran recognizes various  religious communities and a strong foundation for Quranic tolerance  can be seen in the following verses\n",
      "\n",
      "\n",
      "\n"
     ]
    }
   ],
   "source": [
    "for x in final_text:\n",
    "    index = x\n",
    "    out = text[index]\n",
    "    for i in range(1,len_input_text):\n",
    "        out = out + \". \"+text[index+i]\n",
    "        \n",
    "    print(out)\n",
    "    doc= document.add_paragraph(out)\n",
    "    print(\"\\n\\n\")"
   ]
  },
  {
   "cell_type": "code",
   "execution_count": 39,
   "metadata": {},
   "outputs": [],
   "source": [
    "document.save(\"usama.docx\")"
   ]
  }
 ],
 "metadata": {
  "kernelspec": {
   "display_name": "Python 3",
   "language": "python",
   "name": "python3"
  },
  "language_info": {
   "codemirror_mode": {
    "name": "ipython",
    "version": 3
   },
   "file_extension": ".py",
   "mimetype": "text/x-python",
   "name": "python",
   "nbconvert_exporter": "python",
   "pygments_lexer": "ipython3",
   "version": "3.7.4"
  }
 },
 "nbformat": 4,
 "nbformat_minor": 2
}
